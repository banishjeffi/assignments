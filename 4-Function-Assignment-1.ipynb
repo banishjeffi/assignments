{
 "cells": [
  {
   "cell_type": "code",
   "execution_count": 1,
   "metadata": {},
   "outputs": [
    {
     "name": "stdout",
     "output_type": "stream",
     "text": [
      "Sub-fields in AI are:\n",
      "Machine Learning\n",
      "Neural Networks\n",
      "Vision\n",
      "Robotics\n",
      "Speech Processing\n",
      "Natural Language Processing\n"
     ]
    }
   ],
   "source": [
    "def Subfields():\n",
    "    print(\"Sub-fields in AI are:\")\n",
    "    List=['Machine Learning', 'Neural Networks', 'Vision', 'Robotics', 'Speech Processing', 'Natural Language Processing']\n",
    "    for i in List:\n",
    "        print(i)\n",
    "\n",
    "\n",
    "Subfields()"
   ]
  },
  {
   "cell_type": "code",
   "execution_count": 2,
   "metadata": {},
   "outputs": [
    {
     "name": "stdout",
     "output_type": "stream",
     "text": [
      "52452  is Even number\n"
     ]
    }
   ],
   "source": [
    "def OddEven():\n",
    "    \n",
    "    num = int(input(\"Enter a number: \"))\n",
    "    \n",
    "    if (num % 2) == 0:\n",
    "        \n",
    "        print(num,\" is Even number\")\n",
    "        \n",
    "    else:\n",
    "        \n",
    "        print(num,\" is Odd number\")\n",
    "        \n",
    "OddEven()"
   ]
  },
  {
   "cell_type": "code",
   "execution_count": 3,
   "metadata": {},
   "outputs": [
    {
     "name": "stdout",
     "output_type": "stream",
     "text": [
      "NOT ELIGIBLE\n"
     ]
    }
   ],
   "source": [
    "def Elegible():\n",
    "    \n",
    "    gender=input(\"Your Gender:\")\n",
    "    \n",
    "    age=int(input(\"Your Age:\"))\n",
    "    \n",
    "    if(gender=='Male'):\n",
    "        \n",
    "        if(age >=21):\n",
    "            \n",
    "            print('ELIGIBLE')\n",
    "            \n",
    "        else:\n",
    "            \n",
    "            print('NOT ELIGIBLE')\n",
    "            \n",
    "    elif(gender=='Female'):\n",
    "        \n",
    "        if(age >18):\n",
    "            \n",
    "            print('ELIGIBLE')   \n",
    "            \n",
    "    else:\n",
    "        \n",
    "        print('INVALID INPUT DATA')\n",
    "        \n",
    "Elegible()"
   ]
  },
  {
   "cell_type": "code",
   "execution_count": 4,
   "metadata": {},
   "outputs": [
    {
     "name": "stdout",
     "output_type": "stream",
     "text": [
      "Total :  468\n",
      "Percentage :  93.60000000000001\n"
     ]
    }
   ],
   "source": [
    "def percentage():\n",
    "    m1=int(input(\"Subject1= \"))\n",
    "    m2=int(input(\"Subject2= \"))\n",
    "    m3=int(input(\"Subject3= \"))\n",
    "    m4=int(input(\"Subject4= \"))\n",
    "    m5=int(input(\"Subject5= \"))\n",
    "    \n",
    "    Total = m1+m2+m3+m4+m5\n",
    "    print(\"Total : \",m1+m2+m3+m4+m5)\n",
    "    \n",
    "    Percent = (Total / 500) * 100\n",
    "    print(\"Percentage : \", Percent)\n",
    "    \n",
    "percentage()"
   ]
  },
  {
   "cell_type": "code",
   "execution_count": 5,
   "metadata": {},
   "outputs": [
    {
     "name": "stdout",
     "output_type": "stream",
     "text": [
      "Area formula: (Height*Breadth)/2\n",
      "Area of Triangle:  544.0\n",
      "Perimeter formula: Height1+Height2+Breadth\n",
      "Perimeter of Triangle:  9\n"
     ]
    }
   ],
   "source": [
    "def triangle():\n",
    "    Height=int(input(\"Height:\"))\n",
    "    breadth=int(input(\"Breadth:\"))\n",
    "    \n",
    "    print(\"Area formula: (Height*Breadth)/2\")\n",
    "    print(\"Area of Triangle: \",(Height*breadth)/2)\n",
    "    \n",
    "    Height1=int(input(\"Height1:\"))\n",
    "    Height2=int(input(\"Height2:\"))\n",
    "    breadth=int(input(\"Breadth:\"))\n",
    "    \n",
    "    perimeter = Height1+Height2+breadth\n",
    "    print(\"Perimeter formula: Height1+Height2+Breadth\")\n",
    "    print(\"Perimeter of Triangle: \", perimeter)\n",
    "    \n",
    "triangle()"
   ]
  }
 ],
 "metadata": {
  "kernelspec": {
   "display_name": "Python 3",
   "language": "python",
   "name": "python3"
  },
  "language_info": {
   "codemirror_mode": {
    "name": "ipython",
    "version": 3
   },
   "file_extension": ".py",
   "mimetype": "text/x-python",
   "name": "python",
   "nbconvert_exporter": "python",
   "pygments_lexer": "ipython3",
   "version": "3.9.6"
  }
 },
 "nbformat": 4,
 "nbformat_minor": 2
}
