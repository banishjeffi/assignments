{
 "cells": [
  {
   "cell_type": "markdown",
   "metadata": {},
   "source": [
    "# assignment 1 of python control structure"
   ]
  },
  {
   "cell_type": "code",
   "execution_count": 1,
   "metadata": {},
   "outputs": [
    {
     "name": "stdout",
     "output_type": "stream",
     "text": [
      "HOPE AI\n"
     ]
    }
   ],
   "source": [
    "print(\"HOPE AI\")"
   ]
  },
  {
   "cell_type": "code",
   "execution_count": 2,
   "metadata": {},
   "outputs": [
    {
     "data": {
      "text/plain": [
       "'HOPE AI'"
      ]
     },
     "execution_count": 2,
     "metadata": {},
     "output_type": "execute_result"
    }
   ],
   "source": [
    "input(\"Enter your institute name?\")"
   ]
  },
  {
   "cell_type": "code",
   "execution_count": 3,
   "metadata": {},
   "outputs": [
    {
     "data": {
      "text/plain": [
       "'B.E CSE'"
      ]
     },
     "execution_count": 3,
     "metadata": {},
     "output_type": "execute_result"
    }
   ],
   "source": [
    "input(\"Enter your name:\")\n",
    "int(input(\"Enter your age:\"))\n",
    "input(\"Enter your school name:\")\n",
    "input(\"Enter your degree:\")"
   ]
  },
  {
   "cell_type": "code",
   "execution_count": 4,
   "metadata": {},
   "outputs": [
    {
     "name": "stdout",
     "output_type": "stream",
     "text": [
      "a =  43\n",
      "b =  34\n",
      "add =  77\n"
     ]
    }
   ],
   "source": [
    "a =  int(input(\"Enter your Number\"))\n",
    "print(\"a = \",a)\n",
    "b =  int(input(\"Enter your Number\"))\n",
    "print(\"b = \",b)\n",
    "Add = a + b\n",
    "print(\"add = \",Add)"
   ]
  },
  {
   "cell_type": "code",
   "execution_count": 5,
   "metadata": {},
   "outputs": [
    {
     "name": "stdout",
     "output_type": "stream",
     "text": [
      "a =  43\n",
      "b =  34\n",
      "sub =  9\n"
     ]
    }
   ],
   "source": [
    "a =  int(input(\"Enter your Number\"))\n",
    "print(\"a = \",a)\n",
    "b =  int(input(\"Enter your Number\"))\n",
    "print(\"b = \",b)\n",
    "sub = a - b\n",
    "print(\"sub = \",sub)"
   ]
  },
  {
   "cell_type": "code",
   "execution_count": 6,
   "metadata": {},
   "outputs": [
    {
     "name": "stdout",
     "output_type": "stream",
     "text": [
      "a =  63\n",
      "b =  97\n",
      "mul =  6111\n"
     ]
    }
   ],
   "source": [
    "a =  int(input(\"Enter your Number\"))\n",
    "print(\"a = \",a)\n",
    "b =  int(input(\"Enter your Number\"))\n",
    "print(\"b = \",b)\n",
    "mul = a * b\n",
    "print(\"mul = \",mul)"
   ]
  },
  {
   "cell_type": "code",
   "execution_count": 7,
   "metadata": {},
   "outputs": [
    {
     "name": "stdout",
     "output_type": "stream",
     "text": [
      "a =  76\n",
      "b =  31\n",
      "div =  2.4516129032258065\n"
     ]
    }
   ],
   "source": [
    "a =  int(input(\"Enter your Number\"))\n",
    "print(\"a = \",a)\n",
    "b =  int(input(\"Enter your Number\"))\n",
    "print(\"b = \",b)\n",
    "div = a / b\n",
    "print(\"div = \",div)"
   ]
  },
  {
   "cell_type": "code",
   "execution_count": 8,
   "metadata": {},
   "outputs": [
    {
     "name": "stdout",
     "output_type": "stream",
     "text": [
      "a =  76\n",
      "b =  31\n",
      "Floor Div =  2\n"
     ]
    }
   ],
   "source": [
    "a =  int(input(\"Enter your Number\"))\n",
    "print(\"a = \",a)\n",
    "b =  int(input(\"Enter your Number\"))\n",
    "print(\"b = \",b)\n",
    "floorDiv = a // b\n",
    "print(\"Floor Div = \",floorDiv)"
   ]
  },
  {
   "cell_type": "code",
   "execution_count": 9,
   "metadata": {},
   "outputs": [
    {
     "name": "stdout",
     "output_type": "stream",
     "text": [
      "a =  76\n",
      "b =  31\n",
      "Modulo =  14\n"
     ]
    }
   ],
   "source": [
    "a =  int(input(\"Enter your Number\"))\n",
    "print(\"a = \",a)\n",
    "b =  int(input(\"Enter your Number\"))\n",
    "print(\"b = \",b)\n",
    "mod = a % b\n",
    "print(\"Modulo = \",mod)"
   ]
  },
  {
   "cell_type": "code",
   "execution_count": 10,
   "metadata": {},
   "outputs": [
    {
     "name": "stdout",
     "output_type": "stream",
     "text": [
      "a =  4\n",
      "Power =  256\n"
     ]
    }
   ],
   "source": [
    "a =  int(input(\"Enter your Number\"))\n",
    "print(\"a = \",a)\n",
    "b =  int(input(\"Enter your Number\"))\n",
    "print(\"b = \",b)\n",
    "Power = a ** b\n",
    "print(\"Power = \",Power)"
   ]
  }
 ],
 "metadata": {
  "kernelspec": {
   "display_name": "Python 3",
   "language": "python",
   "name": "python3"
  },
  "language_info": {
   "codemirror_mode": {
    "name": "ipython",
    "version": 3
   },
   "file_extension": ".py",
   "mimetype": "text/x-python",
   "name": "python",
   "nbconvert_exporter": "python",
   "pygments_lexer": "ipython3",
   "version": "3.9.6"
  }
 },
 "nbformat": 4,
 "nbformat_minor": 2
}
