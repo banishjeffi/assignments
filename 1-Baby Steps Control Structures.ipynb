{
 "cells": [
  {
   "cell_type": "markdown",
   "metadata": {},
   "source": [
    "# Baby Step Assignment of python control structure"
   ]
  },
  {
   "cell_type": "code",
   "execution_count": 1,
   "metadata": {},
   "outputs": [
    {
     "name": "stdout",
     "output_type": "stream",
     "text": [
      "Welcome to Assignment-1\n"
     ]
    }
   ],
   "source": [
    "print(\"Welcome to Assignment-1\")"
   ]
  },
  {
   "cell_type": "markdown",
   "metadata": {},
   "source": []
  },
  {
   "cell_type": "code",
   "execution_count": 2,
   "metadata": {},
   "outputs": [
    {
     "name": "stdout",
     "output_type": "stream",
     "text": [
      "Num1 =  10\n",
      "Num2 =  20\n",
      "Add =  30\n"
     ]
    }
   ],
   "source": [
    "Num1 = int(input(\"Enter your Number\"))\n",
    "print(\"Num1 = \",Num1)\n",
    "Num2 = int(input(\"Enter your Number\"))\n",
    "print(\"Num2 = \",Num2)\n",
    "Add = Num1 + Num2\n",
    "print(\"Add = \",Add)"
   ]
  },
  {
   "cell_type": "code",
   "execution_count": 3,
   "metadata": {},
   "outputs": [
    {
     "name": "stdout",
     "output_type": "stream",
     "text": [
      "Very Overweight\n"
     ]
    }
   ],
   "source": [
    "BMI = int(input(\"Enter the BMI\"))\n",
    "\n",
    "if(BMI < 18.5):\n",
    "    print(\"Underweight\")\n",
    "elif(BMI < 24.9):\n",
    "    print(\"Normal weight\")\n",
    "elif(BMI < 29.9):\n",
    "    print(\"Overweight\")\n",
    "elif(BMI > 30):\n",
    "    print(\"Very Overweight\")"
   ]
  }
 ],
 "metadata": {
  "kernelspec": {
   "display_name": "Python 3",
   "language": "python",
   "name": "python3"
  },
  "language_info": {
   "codemirror_mode": {
    "name": "ipython",
    "version": 3
   },
   "file_extension": ".py",
   "mimetype": "text/x-python",
   "name": "python",
   "nbconvert_exporter": "python",
   "pygments_lexer": "ipython3",
   "version": "3.9.6"
  }
 },
 "nbformat": 4,
 "nbformat_minor": 2
}
